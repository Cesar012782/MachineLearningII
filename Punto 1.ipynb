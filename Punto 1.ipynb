{
 "cells": [
  {
   "cell_type": "markdown",
   "metadata": {},
   "source": [
    "1. Simulate any random rectangular matrix A."
   ]
  },
  {
   "cell_type": "code",
   "execution_count": 4,
   "metadata": {},
   "outputs": [
    {
     "name": "stdout",
     "output_type": "stream",
     "text": [
      "[8, 5, 2]\n",
      "[1, 7, 8]\n",
      "[5, 3, 6]\n"
     ]
    }
   ],
   "source": [
    "import numpy as np\n",
    "from random import *\n",
    "m = int(input(\"Digite el Número de Filas (m): \"))\n",
    "n = int(input(\"Digite el Número de Columnas (n): \"))\n",
    "A = [[randint(1, 10) for j in range(n)] for i in range(m)]\n",
    "for row in A:\n",
    "    print(row)"
   ]
  },
  {
   "cell_type": "markdown",
   "metadata": {},
   "source": [
    "What is the rank and trace of A?\n",
    "\n",
    "**np.linalg.matrix_rank =** Recibe una matrix y retorna el numero de columnas linealmente independientes."
   ]
  },
  {
   "cell_type": "code",
   "execution_count": 5,
   "metadata": {},
   "outputs": [
    {
     "name": "stdout",
     "output_type": "stream",
     "text": [
      "Rango de la matrix A: 3\n"
     ]
    }
   ],
   "source": [
    "rank = np.linalg.matrix_rank(A)\n",
    "print(f\"Rango de la matrix A: {rank}\")"
   ]
  },
  {
   "cell_type": "markdown",
   "metadata": {},
   "source": [
    "What is the determinant of A?"
   ]
  },
  {
   "cell_type": "code",
   "execution_count": 6,
   "metadata": {},
   "outputs": [
    {
     "name": "stdout",
     "output_type": "stream",
     "text": [
      "[3, 10, 1]\n",
      "[7, 1, 10]\n",
      "[3, 1, 10]\n",
      "\n",
      "La Determinante de la matrix anterior es -395.99999999999966\n"
     ]
    }
   ],
   "source": [
    "from numpy import linalg as LA\n",
    "d = int(input(\"Debido a que solo se puede calcular para matrices cuadradas ingrese el # Filas y Columnas \"))\n",
    "A = [[randint(1, 10) for j in range(d)] for i in range(d)]\n",
    "for row in A:\n",
    "    print(row)\n",
    "Determinante = np.linalg.det(A) \n",
    "print(f\"\\nLa Determinante de la matrix anterior es {Determinante}\")"
   ]
  },
  {
   "cell_type": "markdown",
   "metadata": {},
   "source": [
    "2. Can you invert A? How?"
   ]
  },
  {
   "cell_type": "code",
   "execution_count": null,
   "metadata": {},
   "outputs": [],
   "source": [
    "print(\"Impresión de la matrix del punto anterior 'A'\")\n",
    "for row in A:\n",
    "    print(row)\n",
    "Inversa= np.linalg.inv(m)\n",
    "print(f\"\\nLa Inversa de la matrix anterior es {Inversa}\")"
   ]
  },
  {
   "cell_type": "markdown",
   "metadata": {},
   "source": [
    "How are eigenvalues and eigenvectors of A’A and AA’ related? What interesting differences can you notice between both?\n",
    "\n",
    "**https://sites.cs.ucsb.edu/~mturk/Papers/jcn.pdf**"
   ]
  },
  {
   "cell_type": "code",
   "execution_count": null,
   "metadata": {},
   "outputs": [],
   "source": [
    "print(\"Impresión de la matrix del punto anterior 'A'\")\n",
    "for row in A:\n",
    "    print(row)\n",
    "print(\"***************\")\n",
    "Eigenvalues , Eigenvectors = np.linalg.eig(A)\n",
    "print(\"Eigenvalues \", Eigenvalues,\"\\n\")\n",
    "print(\"Eigenvectors \", Eigenvectors)"
   ]
  },
  {
   "cell_type": "markdown",
   "metadata": {},
   "source": [
    "---\n",
    "\"Diferencias entre Eigenvalues y Eigenvectors\"\n",
    "---\n",
    "\n",
    "| Característica | Eigenvalues (Valores propios) | Eigenvectors (Vectores propios) |\n",
    "|---|---|---|\n",
    "| **Tipo** | Escalar | Vector |\n",
    "| **Representación** | Cantidad de escala | Dirección de escala |\n",
    "| **Cálculo** | Ecuación característica: det(A - λI) = 0 | Sistema de ecuaciones: (A - λI)v = 0 |\n",
    "| **Cantidad** | Igual a la dimensión de la matriz | Uno por cada eigenvalue |\n",
    "| **Valores** | Reales, complejos, positivos, negativos o cero | Linealmente independientes entre sí |\n",
    "\n",
    "**Resumen:**\n",
    "\n",
    "* Los eigenvalues son escalares, mientras que los eigenvectors son vectores.\n",
    "* Los eigenvalues representan la cantidad por la que se escala un vector, mientras que los eigenvectors representan la dirección en la que se escala.\n",
    "* Los eigenvalues se encuentran resolviendo la ecuación característica, mientras que los eigenvectors se encuentran resolviendo un sistema de ecuaciones."
   ]
  }
 ],
 "metadata": {
  "kernelspec": {
   "display_name": "UdeA",
   "language": "python",
   "name": "python3"
  },
  "language_info": {
   "codemirror_mode": {
    "name": "ipython",
    "version": 3
   },
   "file_extension": ".py",
   "mimetype": "text/x-python",
   "name": "python",
   "nbconvert_exporter": "python",
   "pygments_lexer": "ipython3",
   "version": "3.10.12"
  }
 },
 "nbformat": 4,
 "nbformat_minor": 2
}
