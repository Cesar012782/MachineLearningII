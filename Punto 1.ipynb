{
 "cells": [
  {
   "cell_type": "markdown",
   "metadata": {},
   "source": [
    "1. Simulate any random rectangular matrix A."
   ]
  },
  {
   "cell_type": "code",
   "execution_count": 1,
   "metadata": {},
   "outputs": [
    {
     "name": "stdout",
     "output_type": "stream",
     "text": [
      "[5, 7, 7, 9, 6]\n",
      "[7, 8, 8, 5, 10]\n",
      "[7, 1, 7, 5, 3]\n",
      "[2, 2, 8, 3, 3]\n",
      "[7, 10, 10, 4, 7]\n"
     ]
    }
   ],
   "source": [
    "import numpy as np\n",
    "from random import *\n",
    "m = int(input(\"Digite el Número de Filas (m): \"))\n",
    "n = int(input(\"Digite el Número de Columnas (n): \"))\n",
    "A = [[randint(1, 10) for j in range(n)] for i in range(m)]\n",
    "for row in A:\n",
    "    print(row)"
   ]
  },
  {
   "cell_type": "markdown",
   "metadata": {},
   "source": [
    "What is the rank and trace of A?\n",
    "\n",
    "**np.linalg.matrix_rank =** Recibe una matrix y retorna el numero de columnas linealmente independientes."
   ]
  },
  {
   "cell_type": "code",
   "execution_count": 2,
   "metadata": {},
   "outputs": [
    {
     "name": "stdout",
     "output_type": "stream",
     "text": [
      "Rango de la matrix A: 5\n"
     ]
    }
   ],
   "source": [
    "rank = np.linalg.matrix_rank(A)\n",
    "print(f\"Rango de la matrix A: {rank}\")"
   ]
  },
  {
   "cell_type": "markdown",
   "metadata": {},
   "source": [
    "What is the determinant of A?"
   ]
  },
  {
   "cell_type": "code",
   "execution_count": 3,
   "metadata": {},
   "outputs": [
    {
     "name": "stdout",
     "output_type": "stream",
     "text": [
      "[10, 7, 3, 7, 1]\n",
      "[4, 2, 1, 4, 5]\n",
      "[1, 9, 7, 8, 9]\n",
      "[9, 9, 9, 8, 9]\n",
      "[2, 7, 1, 10, 2]\n",
      "\n",
      "La Determinante de la matrix anterior es -4346.000000000007\n"
     ]
    }
   ],
   "source": [
    "from numpy import linalg as LA\n",
    "d = int(input(\"Debido a que solo se puede calcular para matrices cuadradas ingrese el # Filas y Columnas \"))\n",
    "A = [[randint(1, 10) for j in range(d)] for i in range(d)]\n",
    "for row in A:\n",
    "    print(row)\n",
    "Determinante = np.linalg.det(A) \n",
    "print(f\"\\nLa Determinante de la matrix anterior es {Determinante}\")"
   ]
  },
  {
   "cell_type": "markdown",
   "metadata": {},
   "source": [
    "2. Can you invert A? How?"
   ]
  },
  {
   "cell_type": "code",
   "execution_count": 4,
   "metadata": {},
   "outputs": [
    {
     "name": "stdout",
     "output_type": "stream",
     "text": [
      "Impresión de la matrix del punto anterior 'A'\n",
      "[10, 7, 3, 7, 1]\n",
      "[4, 2, 1, 4, 5]\n",
      "[1, 9, 7, 8, 9]\n",
      "[9, 9, 9, 8, 9]\n",
      "[2, 7, 1, 10, 2]\n",
      "\n",
      "La Inversa de la matrix anterior es [[ 0.09295904  0.07777266 -0.03014266 -0.00897377 -0.06488725]\n",
      " [ 0.51817763  0.06718822  0.57455131 -0.58467556 -0.38150023]\n",
      " [-0.37183617 -0.31109066 -0.37942936  0.53589508  0.25954901]\n",
      " [-0.36033134 -0.07869305 -0.39553613  0.39369535  0.38518178]\n",
      " [ 0.08099402  0.23607915  0.18660838 -0.18108606 -0.15554533]]\n"
     ]
    }
   ],
   "source": [
    "from numpy import linalg as LA\n",
    "print(\"Impresión de la matrix del punto anterior 'A'\")\n",
    "for row in A:\n",
    "    print(row)\n",
    "#Inversa= np.linalg.inv(m)\n",
    "Inversa = LA.inv(A)\n",
    "print(f\"\\nLa Inversa de la matrix anterior es {Inversa}\")"
   ]
  },
  {
   "cell_type": "markdown",
   "metadata": {},
   "source": [
    "How are eigenvalues and eigenvectors of A’A and AA’ related? What interesting differences can you notice between both?\n",
    "\n",
    "**https://sites.cs.ucsb.edu/~mturk/Papers/jcn.pdf**"
   ]
  },
  {
   "cell_type": "code",
   "execution_count": 5,
   "metadata": {},
   "outputs": [
    {
     "name": "stdout",
     "output_type": "stream",
     "text": [
      "Impresión de la matrix del punto anterior 'A'\n",
      "[10, 7, 3, 7, 1]\n",
      "[4, 2, 1, 4, 5]\n",
      "[1, 9, 7, 8, 9]\n",
      "[9, 9, 9, 8, 9]\n",
      "[2, 7, 1, 10, 2]\n",
      "***************\n",
      "Eigenvalues  [ 2.90417531e+01+0.j          6.29816386e+00+0.j\n",
      " -6.28254281e+00+0.j         -2.86870977e-02+1.94451583j\n",
      " -2.86870977e-02-1.94451583j] \n",
      "\n",
      "Eigenvectors  [[ 0.41792645+0.j          0.61549331+0.j          0.3055437 +0.j\n",
      "   0.01399904-0.08951733j  0.01399904+0.08951733j]\n",
      " [ 0.23857984+0.j          0.18868516+0.j         -0.4100941 +0.j\n",
      "  -0.58783962+0.j         -0.58783962-0.j        ]\n",
      " [ 0.48989652+0.j         -0.73993851+0.j         -0.01807848+0.j\n",
      "   0.38629406+0.43432944j  0.38629406-0.43432944j]\n",
      " [ 0.63875821+0.j         -0.19310144+0.j         -0.40139344+0.j\n",
      "   0.45800332-0.02163886j  0.45800332+0.02163886j]\n",
      " [ 0.34699638+0.j         -0.02772584+0.j          0.75961988+0.j\n",
      "  -0.21635217-0.22655363j -0.21635217+0.22655363j]]\n"
     ]
    }
   ],
   "source": [
    "print(\"Impresión de la matrix del punto anterior 'A'\")\n",
    "for row in A:\n",
    "    print(row)\n",
    "print(\"***************\")\n",
    "Eigenvalues , Eigenvectors = np.linalg.eig(A)\n",
    "print(\"Eigenvalues \", Eigenvalues,\"\\n\")\n",
    "print(\"Eigenvectors \", Eigenvectors)"
   ]
  },
  {
   "cell_type": "markdown",
   "metadata": {},
   "source": [
    "---\n",
    "\"Diferencias entre Eigenvalues y Eigenvectors\"\n",
    "---\n",
    "\n",
    "| Característica | Eigenvalues (Valores propios) | Eigenvectors (Vectores propios) |\n",
    "|---|---|---|\n",
    "| **Tipo** | Escalar | Vector |\n",
    "| **Representación** | Cantidad de escala | Dirección de escala |\n",
    "| **Cálculo** | Ecuación característica: det(A - λI) = 0 | Sistema de ecuaciones: (A - λI)v = 0 |\n",
    "| **Cantidad** | Igual a la dimensión de la matriz | Uno por cada eigenvalue |\n",
    "| **Valores** | Reales, complejos, positivos, negativos o cero | Linealmente independientes entre sí |\n",
    "\n",
    "**Resumen:**\n",
    "\n",
    "* Los eigenvalues son escalares, mientras que los eigenvectors son vectores.\n",
    "* Los eigenvalues representan la cantidad por la que se escala un vector, mientras que los eigenvectors representan la dirección en la que se escala.\n",
    "* Los eigenvalues se encuentran resolviendo la ecuación característica, mientras que los eigenvectors se encuentran resolviendo un sistema de ecuaciones."
   ]
  }
 ],
 "metadata": {
  "kernelspec": {
   "display_name": "UdeA",
   "language": "python",
   "name": "python3"
  },
  "language_info": {
   "codemirror_mode": {
    "name": "ipython",
    "version": 3
   },
   "file_extension": ".py",
   "mimetype": "text/x-python",
   "name": "python",
   "nbconvert_exporter": "python",
   "pygments_lexer": "ipython3",
   "version": "3.11.5"
  }
 },
 "nbformat": 4,
 "nbformat_minor": 2
}
