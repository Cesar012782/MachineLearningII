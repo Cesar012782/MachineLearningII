{
  "nbformat": 4,
  "nbformat_minor": 0,
  "metadata": {
    "colab": {
      "private_outputs": true,
      "provenance": []
    },
    "kernelspec": {
      "name": "python3",
      "display_name": "Python 3"
    },
    "language_info": {
      "name": "python"
    }
  },
  "cells": [
    {
      "cell_type": "code",
      "execution_count": null,
      "metadata": {
        "id": "gB8QXtLQk7zp"
      },
      "outputs": [],
      "source": [
        "import cv2\n",
        "import numpy as np\n",
        "import matplotlib.pyplot as plt\n",
        "import os"
      ]
    },
    {
      "cell_type": "code",
      "source": [
        "def apply_svd(image_file, output_folder, sv_num_list):\n",
        "    # Load the image\n",
        "    img = cv2.imread(image_file, cv2.IMREAD_GRAYSCALE)\n",
        "\n",
        "    # Create an output folder if it doesn't exist\n",
        "    if not os.path.exists(output_folder):\n",
        "        os.makedirs(output_folder)\n",
        "\n",
        "    # Perform SVD and visualize progressively reconstructed images\n",
        "    for sv_num in sv_num_list:\n",
        "        reconstructed_img = svd_reconstruction(img, sv_num)\n",
        "\n",
        "        # Save the reconstructed image\n",
        "        output_path = os.path.join(output_folder, f'reconstructed_svd_{sv_num}.jpg')\n",
        "        cv2.imwrite(output_path, reconstructed_img)"
      ],
      "metadata": {
        "id": "aKyQF-adlOvo"
      },
      "execution_count": null,
      "outputs": []
    },
    {
      "cell_type": "code",
      "source": [
        "def svd_reconstruction(image, sv_num):\n",
        "    u, s, v = np.linalg.svd(image)\n",
        "    s[sv_num:] = 0  # Keep only the first 'sv_num' singular values\n",
        "    reconstructed_img = np.dot(u, np.dot(np.diag(s), v))\n",
        "    return np.uint8(reconstructed_img)"
      ],
      "metadata": {
        "id": "vMUKYP3SlOyi"
      },
      "execution_count": null,
      "outputs": []
    },
    {
      "cell_type": "code",
      "source": [
        "# Example usage\n",
        "image_file = '/content/Fotoperfil_b&n.jpg'\n",
        "output_folder = '/content/Result/'\n",
        "sv_num_list = [10, 20, 50, 100]  # Adjust as needed"
      ],
      "metadata": {
        "id": "zfT_aqIHlO1j"
      },
      "execution_count": null,
      "outputs": []
    },
    {
      "cell_type": "code",
      "source": [
        "apply_svd(image_file, output_folder, sv_num_list)"
      ],
      "metadata": {
        "id": "TU0L1_-NlO5W"
      },
      "execution_count": null,
      "outputs": []
    }
  ]
}