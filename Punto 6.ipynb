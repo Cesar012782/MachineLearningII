{
  "nbformat": 4,
  "nbformat_minor": 0,
  "metadata": {
    "colab": {
      "private_outputs": true,
      "provenance": []
    },
    "kernelspec": {
      "name": "python3",
      "display_name": "Python 3"
    },
    "language_info": {
      "name": "python"
    }
  },
  "cells": [
    {
      "cell_type": "code",
      "source": [
        "import numpy as np\n",
        "import matplotlib.pyplot as plt\n",
        "from sklearn.decomposition import PCA\n",
        "from sklearn.manifold import TSNE\n",
        "from sklearn.model_selection import train_test_split\n",
        "from sklearn.linear_model import LogisticRegression\n",
        "from sklearn import datasets\n",
        "from sklearn.metrics import accuracy_score"
      ],
      "metadata": {
        "id": "F6J0fYOs63Pq"
      },
      "execution_count": null,
      "outputs": []
    },
    {
      "cell_type": "code",
      "source": [
        "mnist = datasets.fetch_openml('mnist_784', version=1) # Cargue Dataset  MNIST\n",
        "X, y = mnist['data'], mnist['target'].astype(int)"
      ],
      "metadata": {
        "id": "XexPNwIZ67sa"
      },
      "execution_count": null,
      "outputs": []
    },
    {
      "cell_type": "code",
      "source": [
        "filter_mask = (y == 0) | (y == 8) #Filtro 0s y 8s\n",
        "X_filtered = X[filter_mask]\n",
        "y_filtered = y[filter_mask]"
      ],
      "metadata": {
        "id": "fqRHeGgX67vp"
      },
      "execution_count": null,
      "outputs": []
    },
    {
      "cell_type": "code",
      "source": [
        "X_train, X_test, y_train, y_test = train_test_split(X_filtered, y_filtered, test_size=0.2, random_state=42) # Divide datos entrenamiento y Prueba"
      ],
      "metadata": {
        "id": "bsUvcaiJ671G"
      },
      "execution_count": null,
      "outputs": []
    },
    {
      "cell_type": "code",
      "source": [
        "pca = PCA(n_components=2) # Aplics PCA para Reduccion dimensionalidad\n",
        "X_pca = pca.fit_transform(X_train)"
      ],
      "metadata": {
        "id": "oikrGelu674i"
      },
      "execution_count": null,
      "outputs": []
    },
    {
      "cell_type": "code",
      "source": [
        "tsne = TSNE(n_components=2, random_state=42) # Aplics t-SNE para Reduccion dimensionalidad\n",
        "X_tsne = tsne.fit_transform(X_train)"
      ],
      "metadata": {
        "id": "IOJcIhDX677h"
      },
      "execution_count": null,
      "outputs": []
    },
    {
      "cell_type": "code",
      "source": [
        "model_original = LogisticRegression(max_iter=500) # Entrenamiento del Modelo LogisticRegression\n",
        "model_original.fit(X_train, y_train)\n",
        "y_pred_original = model_original.predict(X_test)\n",
        "accuracy_original = accuracy_score(y_test, y_pred_original)"
      ],
      "metadata": {
        "id": "qkYi-3uY7J4W"
      },
      "execution_count": null,
      "outputs": []
    },
    {
      "cell_type": "code",
      "source": [
        "model_pca = LogisticRegression(max_iter=500) # Entrenamiento del Modelo Logistic Regression en PCA-reduced data\n",
        "model_pca.fit(X_pca, y_train)\n",
        "y_pred_pca = model_pca.predict(pca.transform(X_test))\n",
        "accuracy_pca = accuracy_score(y_test, y_pred_pca)"
      ],
      "metadata": {
        "id": "0Nh2wQcx7J7R"
      },
      "execution_count": null,
      "outputs": []
    },
    {
      "cell_type": "code",
      "source": [
        "model_tsne = LogisticRegression(max_iter=500) # Entrenamiento del Modelo Logistic Regression en t-SNE-reduced data\n",
        "model_tsne.fit(X_tsne, y_train)\n",
        "y_pred_tsne = model_tsne.predict(tsne.fit_transform(X_test))\n",
        "accuracy_tsne = accuracy_score(y_test, y_pred_tsne)"
      ],
      "metadata": {
        "id": "W6c6ijFH7J-p"
      },
      "execution_count": null,
      "outputs": []
    },
    {
      "cell_type": "code",
      "source": [
        "plt.figure(figsize=(12, 8)) # Trazado"
      ],
      "metadata": {
        "id": "ixjP1waz7KD_"
      },
      "execution_count": null,
      "outputs": []
    },
    {
      "cell_type": "code",
      "source": [
        "plt.subplot(2, 2, 1)\n",
        "plt.scatter(X_pca[:, 0], X_pca[:, 1], c=y_train, cmap='viridis', marker='.')\n",
        "plt.title('PCA - Original Data')\n",
        "\n",
        "plt.subplot(2, 2, 2)\n",
        "plt.scatter(X_tsne[:, 0], X_tsne[:, 1], c=y_train, cmap='viridis', marker='.')\n",
        "plt.title('t-SNE - Original Data')\n",
        "\n",
        "plt.subplot(2, 2, 3)\n",
        "plt.scatter(X_pca[:, 0], X_pca[:, 1], c=y_train, cmap='viridis', marker='.')\n",
        "plt.title(f'PCA - Accuracy: {accuracy_pca:.2f}')\n",
        "\n",
        "plt.subplot(2, 2, 4)\n",
        "plt.scatter(X_tsne[:, 0], X_tsne[:, 1], c=y_train, cmap='viridis', marker='.')\n",
        "plt.title(f't-SNE - Accuracy: {accuracy_tsne:.2f}')\n",
        "\n",
        "plt.show()"
      ],
      "metadata": {
        "id": "pA_tOxrL7SQk"
      },
      "execution_count": null,
      "outputs": []
    },
    {
      "cell_type": "markdown",
      "source": [
        "Aplicamos la reducción de la dimensionalidad utilizando algunos algoritmos en el conjunto de datos MNIST, para reducirlo a sólo 2 características por imagen.\n",
        "entrenaremos un modelo de regresión logística con estas características reducidas y analizaremos el impacto en el rendimiento del modelo"
      ],
      "metadata": {
        "id": "kP9rIwOZB99E"
      }
    }
  ]
}