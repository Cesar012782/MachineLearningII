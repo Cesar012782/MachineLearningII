{
  "nbformat": 4,
  "nbformat_minor": 0,
  "metadata": {
    "colab": {
      "private_outputs": true,
      "provenance": []
    },
    "kernelspec": {
      "name": "python3",
      "display_name": "Python 3"
    },
    "language_info": {
      "name": "python"
    }
  },
  "cells": [
    {
      "cell_type": "code",
      "execution_count": null,
      "metadata": {
        "id": "_ThXGL0Pz0it"
      },
      "outputs": [],
      "source": [
        "import numpy as np\n",
        "from sklearn.model_selection import train_test_split\n",
        "from sklearn.linear_model import LogisticRegression\n",
        "from sklearn import datasets\n",
        "from sklearn.metrics import accuracy_score, classification_report, confusion_matrix"
      ]
    },
    {
      "cell_type": "code",
      "source": [
        "mnist = datasets.fetch_openml('mnist_784', version=1) # Cargar el conjunto de datos MNIST\n",
        "X, y = mnist['data'], mnist['target'].astype(int)"
      ],
      "metadata": {
        "id": "dUVqJ1WX0LxN"
      },
      "execution_count": null,
      "outputs": []
    },
    {
      "cell_type": "code",
      "source": [
        "filter_mask = (y == 0) | (y == 8) # Filtrar 0s y 8s\n",
        "X_filtered = X[filter_mask]\n",
        "y_filtered = y[filter_mask]"
      ],
      "metadata": {
        "id": "CBaEzqfU0Nr_"
      },
      "execution_count": null,
      "outputs": []
    },
    {
      "cell_type": "code",
      "source": [
        "X_train, X_test, y_train, y_test = train_test_split(X_filtered, y_filtered, test_size=0.2, random_state=42) # Dividir el conjunto de datos en conjuntos de entrenamiento y de prueba"
      ],
      "metadata": {
        "id": "8bMON-J80NvK"
      },
      "execution_count": null,
      "outputs": []
    },
    {
      "cell_type": "code",
      "source": [
        "model = LogisticRegression(max_iter=500) # Entrenamiento del Modelo Logistic Regression\n",
        "model.fit(X_train, y_train)"
      ],
      "metadata": {
        "id": "tYhZSVux0N2u"
      },
      "execution_count": null,
      "outputs": []
    },
    {
      "cell_type": "code",
      "source": [
        "y_pred = model.predict(X_test) #Prediccion del conjunto de test"
      ],
      "metadata": {
        "id": "jkeupG6B0Sqk"
      },
      "execution_count": null,
      "outputs": []
    },
    {
      "cell_type": "code",
      "source": [
        "accuracy = accuracy_score(y_test, y_pred) # Evaluacion del Modelo\n",
        "conf_matrix = confusion_matrix(y_test, y_pred)\n",
        "classification_rep = classification_report(y_test, y_pred)"
      ],
      "metadata": {
        "id": "gB-t7nWp0Stq"
      },
      "execution_count": null,
      "outputs": []
    },
    {
      "cell_type": "code",
      "source": [
        "print(f'Accuracy: {accuracy:.2f}')\n",
        "print('Confusion Matrix:')\n",
        "print(conf_matrix)\n",
        "print('Classification Report:')\n",
        "print(classification_rep)"
      ],
      "metadata": {
        "id": "56LLs96e0Vak"
      },
      "execution_count": null,
      "outputs": []
    }
  ]
}