{
  "nbformat": 4,
  "nbformat_minor": 0,
  "metadata": {
    "colab": {
      "private_outputs": true,
      "provenance": []
    },
    "kernelspec": {
      "name": "python3",
      "display_name": "Python 3"
    },
    "language_info": {
      "name": "python"
    }
  },
  "cells": [
    {
      "cell_type": "code",
      "source": [
        "from google.colab.patches import cv2_imshow\n",
        "import cv2\n",
        "import numpy as np"
      ],
      "metadata": {
        "id": "Ac1uW94DAHNQ"
      },
      "execution_count": null,
      "outputs": []
    },
    {
      "cell_type": "code",
      "source": [
        "imagen_original = cv2.imread('/content/Fotoperfil_b&n.jpg') # Cargar la imagen original"
      ],
      "metadata": {
        "id": "0w2kfL7EAHQN"
      },
      "execution_count": null,
      "outputs": []
    },
    {
      "cell_type": "code",
      "source": [
        "clasificador_rostro = cv2.CascadeClassifier(cv2.data.haarcascades + 'haarcascade_frontalface_default.xml') # Cargar el clasificador de Haar para la detección de rostros"
      ],
      "metadata": {
        "id": "GXN7pTLFAHS1"
      },
      "execution_count": null,
      "outputs": []
    },
    {
      "cell_type": "code",
      "source": [
        "rostros = clasificador_rostro.detectMultiScale(imagen_original, scaleFactor=1.3, minNeighbors=5) # Detectar rostros en la imagen original"
      ],
      "metadata": {
        "id": "W-NEajKOAHVl"
      },
      "execution_count": null,
      "outputs": []
    },
    {
      "cell_type": "code",
      "source": [
        "distancias = [] # se Crea una lista para almacenar las distancias\n",
        "caras = []"
      ],
      "metadata": {
        "id": "Dkg-7ow7AHYX"
      },
      "execution_count": null,
      "outputs": []
    },
    {
      "cell_type": "code",
      "source": [
        "for (x, y, w, h) in rostros: # Calcular la cara media\n",
        "    cara_recortada = imagen_original[y:y+h, x:x+w]\n",
        "    caras.append(cara_recortada)\n",
        "cara_media = np.mean(caras, axis=0)"
      ],
      "metadata": {
        "id": "Pn28nX0QAHbE"
      },
      "execution_count": null,
      "outputs": []
    },
    {
      "cell_type": "code",
      "source": [
        "cara_media = cv2.cvtColor(cara_media.astype(np.uint8), cv2.COLOR_BGR2GRAY) # Convertir la cara media a escala de grises"
      ],
      "metadata": {
        "id": "UOWmv4kXAHdp"
      },
      "execution_count": null,
      "outputs": []
    },
    {
      "cell_type": "code",
      "source": [
        "cara_media_redimensionada = cv2.resize(cara_media, (w, h)) #Redimensionar la cara media para que tenga el mismo tamaño que las caras recortadas"
      ],
      "metadata": {
        "id": "jJUMQGg1AHgX"
      },
      "execution_count": null,
      "outputs": []
    },
    {
      "cell_type": "code",
      "source": [
        "for (x, y, w, h) in rostros:\n",
        "    cv2.rectangle(imagen_original, (x, y), (x+w, y+h), (255, 0, 0), 2) # Dibujar rectángulos alrededor de los rostros detectados en la imagen original\n",
        "    cara_recortada = imagen_original[y:y+h, x:x+w] # Recortar la cara en la imagen original\n",
        "    cara_recortada_gris = cv2.cvtColor(cara_recortada, cv2.COLOR_BGR2GRAY) # Convertir la cara recortada a escala de grises\n",
        "    cara_recortada_redimensionada = cv2.resize(cara_recortada_gris, (w, h)) # Redimensionar la cara recortada para que tenga el mismo tamaño que la cara media\n",
        "    distancia = np.linalg.norm(cara_recortada_redimensionada - cara_media_redimensionada) # Calcular la distancia euclidiana entre la cara recortada y la cara media\n",
        "    distancias.append(distancia)\n",
        "cv2_imshow(imagen_original) # Mostrar la imagen original con los rectángulos trazados"
      ],
      "metadata": {
        "id": "4GZ5AJsDAHjb"
      },
      "execution_count": null,
      "outputs": []
    },
    {
      "cell_type": "code",
      "source": [
        "for i, distancia in enumerate(distancias):\n",
        "    print(f\"Distancia del rostro {i+1} a la cara media: {distancia}\") # Imprimo la distancia"
      ],
      "metadata": {
        "id": "1yi9zPKbAXWR"
      },
      "execution_count": null,
      "outputs": []
    }
  ]
}