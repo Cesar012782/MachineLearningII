{
  "nbformat": 4,
  "nbformat_minor": 0,
  "metadata": {
    "colab": {
      "private_outputs": true,
      "provenance": []
    },
    "kernelspec": {
      "name": "python3",
      "display_name": "Python 3"
    },
    "language_info": {
      "name": "python"
    }
  },
  "cells": [
    {
      "cell_type": "code",
      "execution_count": null,
      "metadata": {
        "id": "fsnjhhjjvhrO"
      },
      "outputs": [],
      "source": [
        "from google.colab.patches import cv2_imshow\n",
        "import cv2"
      ]
    },
    {
      "cell_type": "code",
      "source": [
        "imagen = cv2.imread('/content/Fotoperfil_b&n.jpg')#Cargo la imagen en B&N"
      ],
      "metadata": {
        "id": "pEmdpTuavtXp"
      },
      "execution_count": null,
      "outputs": []
    },
    {
      "cell_type": "code",
      "source": [
        "clasificador_rostro = cv2.CascadeClassifier(cv2.data.haarcascades + 'haarcascade_frontalface_default.xml') #Utilizo el clasificador de Haar para la detectar el rostro"
      ],
      "metadata": {
        "id": "X8WXkhbevtaa"
      },
      "execution_count": null,
      "outputs": []
    },
    {
      "cell_type": "code",
      "source": [
        "rostros = clasificador_rostro.detectMultiScale(imagen, scaleFactor=1.3, minNeighbors=5) # Deteccion del rostro en la foto"
      ],
      "metadata": {
        "id": "TvjPCMQZvtdS"
      },
      "execution_count": null,
      "outputs": []
    },
    {
      "cell_type": "code",
      "source": [
        "for (x, y, w, h) in rostros: # Ploteo alrededor del rostro\n",
        "    cv2.rectangle(imagen, (x, y), (x+w, y+h), (255, 0, 0), 2)"
      ],
      "metadata": {
        "id": "56KtSXUYvtf7"
      },
      "execution_count": null,
      "outputs": []
    },
    {
      "cell_type": "code",
      "source": [
        "cv2.imwrite(\"/content/PerfilTraza.jpg\",imagen) #Descargo la imagen redimensionada en gris\n",
        "cv2_imshow(imagen) # Traza la cara editada"
      ],
      "metadata": {
        "id": "W7lIA20Sv9q3"
      },
      "execution_count": null,
      "outputs": []
    }
  ]
}