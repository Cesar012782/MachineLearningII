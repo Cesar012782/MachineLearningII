{
  "nbformat": 4,
  "nbformat_minor": 0,
  "metadata": {
    "colab": {
      "private_outputs": true,
      "provenance": []
    },
    "kernelspec": {
      "name": "python3",
      "display_name": "Python 3"
    },
    "language_info": {
      "name": "python"
    }
  },
  "cells": [
    {
      "cell_type": "code",
      "execution_count": null,
      "metadata": {
        "id": "yjGEEyD1VXuX"
      },
      "outputs": [],
      "source": [
        "from google.colab.patches import cv2_imshow\n",
        "import cv2\n",
        "import numpy as np"
      ]
    },
    {
      "cell_type": "code",
      "source": [
        "# Cargar la imagen\n",
        "imagen = cv2.imread('/content/Fotoperfil_b&n.jpg')"
      ],
      "metadata": {
        "id": "6ltLP8eKVa5a"
      },
      "execution_count": null,
      "outputs": []
    },
    {
      "cell_type": "code",
      "source": [
        "# Cargar el clasificador de Haar para la detección de rostros\n",
        "clasificador_rostro = cv2.CascadeClassifier(cv2.data.haarcascades + 'haarcascade_frontalface_default.xml')"
      ],
      "metadata": {
        "id": "em8kV77RVa82"
      },
      "execution_count": null,
      "outputs": []
    },
    {
      "cell_type": "code",
      "source": [
        "# Convertir la imagen a escala de grises\n",
        "imagen_gris = cv2.cvtColor(imagen, cv2.COLOR_BGR2GRAY)"
      ],
      "metadata": {
        "id": "n_oupRFrVbAK"
      },
      "execution_count": null,
      "outputs": []
    },
    {
      "cell_type": "code",
      "source": [
        "# Detectar rostros en la imagen\n",
        "rostros = clasificador_rostro.detectMultiScale(imagen_gris, scaleFactor=1.3, minNeighbors=5)"
      ],
      "metadata": {
        "id": "kf5xDySmVbC7"
      },
      "execution_count": null,
      "outputs": []
    },
    {
      "cell_type": "code",
      "source": [
        "# Crear una imagen para almacenar las caras recortadas\n",
        "caras = []\n",
        "\n",
        "# Recortar las caras y almacenarlas en la lista \"caras\"\n",
        "for (x, y, w, h) in rostros:\n",
        "    cara_recortada = imagen_gris[y:y+h, x:x+w]\n",
        "    caras.append(cara_recortada)"
      ],
      "metadata": {
        "id": "Wf5GdVedVbFW"
      },
      "execution_count": null,
      "outputs": []
    },
    {
      "cell_type": "code",
      "source": [
        "# Calcular la cara media\n",
        "cara_media = np.mean(caras, axis=0)"
      ],
      "metadata": {
        "id": "xVBHY1CkVbH0"
      },
      "execution_count": null,
      "outputs": []
    },
    {
      "cell_type": "code",
      "source": [
        "# Convertir la cara media a un formato de imagen válida (escala de grises)\n",
        "cara_media = cara_media.astype(np.uint8)"
      ],
      "metadata": {
        "id": "j-juBpMjVbKX"
      },
      "execution_count": null,
      "outputs": []
    },
    {
      "cell_type": "code",
      "source": [
        "# Redimensionar la cara media para que tenga el mismo tamaño que las caras recortadas\n",
        "cara_media_redimensionada = cv2.resize(cara_media, (w, h))"
      ],
      "metadata": {
        "id": "utPpZ28eVqSP"
      },
      "execution_count": null,
      "outputs": []
    },
    {
      "cell_type": "code",
      "source": [
        "# Mostrar la cara media\n",
        "cv2_imshow(cara_media_redimensionada)"
      ],
      "metadata": {
        "id": "UnMZ3KQiVbNE"
      },
      "execution_count": null,
      "outputs": []
    }
  ]
}