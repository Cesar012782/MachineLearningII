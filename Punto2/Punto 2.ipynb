{
  "cells": [
    {
      "cell_type": "code",
      "execution_count": 1,
      "metadata": {
        "id": "qIYWxTzfXag8"
      },
      "outputs": [],
      "source": [
        "import cv2\n",
        "import numpy as np"
      ]
    },
    {
      "cell_type": "code",
      "execution_count": 2,
      "metadata": {
        "id": "Mn6R3HuKXdOA"
      },
      "outputs": [
        {
          "name": "stderr",
          "output_type": "stream",
          "text": [
            "[ WARN:0@49.834] global loadsave.cpp:248 findDecoder imread_('/Perfil2.jpg'): can't open/read file: check file path/integrity\n"
          ]
        }
      ],
      "source": [
        "Image = cv2.imread('/Perfil2.jpg')# Se lee la imagen"
      ]
    },
    {
      "cell_type": "code",
      "execution_count": null,
      "metadata": {
        "id": "yq_j7Oe3YBP8"
      },
      "outputs": [],
      "source": [
        "resized = cv2.resize(Image, (256, 256)) #Cambiar el tamaño a 256 x 256\n",
        "gray_resized = cv2.cvtColor(resized, cv2.COLOR_BGR2GRAY)  # a la misma foto se le cambia el color a gris\n",
        "cv2.imwrite(\"/Fotoperfil_b&n.jpg\", gray_resized) #Descargo la imagen redimensionada en gris"
      ]
    }
  ],
  "metadata": {
    "colab": {
      "private_outputs": true,
      "provenance": []
    },
    "kernelspec": {
      "display_name": "Python 3",
      "name": "python3"
    },
    "language_info": {
      "codemirror_mode": {
        "name": "ipython",
        "version": 3
      },
      "file_extension": ".py",
      "mimetype": "text/x-python",
      "name": "python",
      "nbconvert_exporter": "python",
      "pygments_lexer": "ipython3",
      "version": "3.10.12"
    }
  },
  "nbformat": 4,
  "nbformat_minor": 0
}
