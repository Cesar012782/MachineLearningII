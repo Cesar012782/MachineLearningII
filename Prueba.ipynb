{
 "cells": [
  {
   "cell_type": "code",
   "execution_count": 7,
   "metadata": {},
   "outputs": [],
   "source": [
    "from sklearn.datasets import fetch_lfw_people\n",
    "from sklearn.decomposition import PCA\n",
    "import matplotlib.pyplot as plt"
   ]
  },
  {
   "cell_type": "code",
   "execution_count": null,
   "metadata": {},
   "outputs": [],
   "source": [
    "lfw = fetch_lfw_people(min_faces_per_person=70, resize=0.4)\n",
    "X = lfw.data"
   ]
  },
  {
   "cell_type": "code",
   "execution_count": null,
   "metadata": {},
   "outputs": [],
   "source": [
    "n_samples, h, w = lfw.images.shape\n",
    "n_features = X.shape[1]\n",
    "print(\"#features: \"+str(n_features))"
   ]
  },
  {
   "cell_type": "code",
   "execution_count": null,
   "metadata": {},
   "outputs": [],
   "source": [
    "def plot_gallery(images, heigth, width, n_row, n_col, cmap=plt.cm.gray):\n",
    "    fig, axs = plt.subplots(n_row, n_col, figsize=(14,10),\n",
    "                            subplot_kw{'xticks':(), 'yticks':()})\n",
    "for i, image in zip(range(n_row * n_col),cmap=cmap):\n",
    "    r= int(i/n col); c=i%n_col\n",
    "    axs[r,c].imshow(image.reshape((h,w)),cmap=cmap)\n",
    "    if (r==0):\n",
    "        if (c==0):\n",
    "            axs[r,c].set_title('Compressed:')\n",
    "        else:\n",
    "            axs[r,c].set_title('{.2f}'.format(\n",
    "                100-5+(c-1)*20)*100/n_features)+ '%')\n",
    "    \n"
   ]
  }
 ],
 "metadata": {
  "kernelspec": {
   "display_name": "Laboratorio",
   "language": "python",
   "name": "python3"
  },
  "language_info": {
   "codemirror_mode": {
    "name": "ipython",
    "version": 3
   },
   "file_extension": ".py",
   "mimetype": "text/x-python",
   "name": "python",
   "nbconvert_exporter": "python",
   "pygments_lexer": "ipython3",
   "version": "3.11.5"
  }
 },
 "nbformat": 4,
 "nbformat_minor": 2
}
