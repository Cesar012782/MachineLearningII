{
  "nbformat": 4,
  "nbformat_minor": 0,
  "metadata": {
    "colab": {
      "private_outputs": true,
      "provenance": []
    },
    "kernelspec": {
      "name": "python3",
      "display_name": "Python 3"
    },
    "language_info": {
      "name": "python"
    }
  },
  "cells": [
    {
      "cell_type": "code",
      "source": [
        "import cv2\n",
        "import numpy as np"
      ],
      "metadata": {
        "id": "qIYWxTzfXag8"
      },
      "execution_count": null,
      "outputs": []
    },
    {
      "cell_type": "code",
      "source": [
        "Image = cv2.imread('/content/CesarSaenzOriginal.jpg')# Se lee la imagen"
      ],
      "metadata": {
        "id": "Mn6R3HuKXdOA"
      },
      "execution_count": null,
      "outputs": []
    },
    {
      "cell_type": "code",
      "source": [
        "resized = cv2.resize(Image, (256, 256)) #Cambiar el tamaño a 256 x 256\n",
        "gray_resized = cv2.cvtColor(resized, cv2.COLOR_BGR2GRAY)  # a la misma foto se le cambia el color a gris\n",
        "cv2.imwrite(\"/content/Fotoperfil_b&n.jpg\", gray_resized) #Descargo la imagen redimensionada en gris"
      ],
      "metadata": {
        "id": "yq_j7Oe3YBP8"
      },
      "execution_count": null,
      "outputs": []
    }
  ]
}