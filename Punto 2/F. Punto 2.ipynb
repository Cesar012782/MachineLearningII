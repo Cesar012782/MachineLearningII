{
 "cells": [
  {
   "cell_type": "code",
   "execution_count": 11,
   "metadata": {},
   "outputs": [],
   "source": [
    "import cv2\n",
    "import numpy as np\n",
    "from IPython.display import Image as IPImage, display"
   ]
  },
  {
   "cell_type": "code",
   "execution_count": 13,
   "metadata": {},
   "outputs": [],
   "source": [
    "stocking_image = cv2.imread('/Users/cesaraugustosaenzjimenez/Desktop/Entrega1/Punto 2/Image/Fotoperfil_b&n.jpg', cv2.IMREAD_GRAYSCALE)# Carga la Imagen media\n",
    "imagen_original = cv2.imread('/Users/cesaraugustosaenzjimenez/Desktop/Entrega1/Punto 2/Image/Fotoperfil_b&n.jpg') \n",
    "clasificador_rostro = cv2.CascadeClassifier(cv2.data.haarcascades + 'haarcascade_frontalface_default.xml') #CascadeClassifier es tipo Haar, haarcascades es uta de directorio en OpenCV que contiene archivos XML Haar Cascade pre-entrenados para varios objetos, incluyendo la detección de caras y haarcascade_frontalface_default.xml ontiene el modelo entrenado para la detección de caras frontales\n",
    "rostros = clasificador_rostro.detectMultiScale(imagen_original, scaleFactor=1.3, minNeighbors=5) \n",
    "distancias = [] "
   ]
  },
  {
   "cell_type": "code",
   "execution_count": 14,
   "metadata": {},
   "outputs": [],
   "source": [
    "for (x, y, w, h) in rostros:\n",
    "    face_roi = imagen_original[y:y+h, x:x+w] #Extrae la region de la parte que le interea del rostro\n",
    "    face_gray = cv2.cvtColor(face_roi, cv2.COLOR_BGR2GRAY) #Convierte el rostro a escala de Grises\n",
    "    stocking_resized = cv2.resize(stocking_image, (w, h)) #Redimensiona la cara par que coincida con la media\n",
    "    mse = np.sum((face_gray - stocking_resized) ** 2) / float(w * h) #Calcula el (MSE) entre l cara y la Media\n",
    "    distancias.append(mse) # Añade MSE a la lista de distancias"
   ]
  },
  {
   "cell_type": "code",
   "execution_count": 15,
   "metadata": {},
   "outputs": [
    {
     "name": "stdout",
     "output_type": "stream",
     "text": [
      "Distancia del rostro 1 a la stocking: 73.50187421907539\n"
     ]
    }
   ],
   "source": [
    "for i, distancia in enumerate(distancias):\n",
    "    print(f\"Distancia del rostro {i+1} a la stocking: {distancia}\")"
   ]
  }
 ],
 "metadata": {
  "kernelspec": {
   "display_name": "Laboratorio",
   "language": "python",
   "name": "python3"
  },
  "language_info": {
   "codemirror_mode": {
    "name": "ipython",
    "version": 3
   },
   "file_extension": ".py",
   "mimetype": "text/x-python",
   "name": "python",
   "nbconvert_exporter": "python",
   "pygments_lexer": "ipython3",
   "version": "3.11.5"
  }
 },
 "nbformat": 4,
 "nbformat_minor": 2
}
