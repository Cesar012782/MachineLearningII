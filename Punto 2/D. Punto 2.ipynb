{
  "cells": [
    {
      "cell_type": "code",
      "execution_count": 1,
      "metadata": {
        "id": "yjGEEyD1VXuX"
      },
      "outputs": [],
      "source": [
        "import cv2\n",
        "import numpy as np\n",
        "from IPython.display import Image as IPImage, display"
      ]
    },
    {
      "cell_type": "code",
      "execution_count": 2,
      "metadata": {
        "id": "6ltLP8eKVa5a"
      },
      "outputs": [],
      "source": [
        "Image = cv2.imread('/Users/cesaraugustosaenzjimenez/Desktop/Entrega1/Punto 2/Image/Fotoperfil_b&n.jpg')#Cargo la imagen en B&N"
      ]
    },
    {
      "cell_type": "code",
      "execution_count": 3,
      "metadata": {
        "id": "em8kV77RVa82"
      },
      "outputs": [],
      "source": [
        "clasificador_rostro = cv2.CascadeClassifier(cv2.data.haarcascades + 'haarcascade_frontalface_default.xml') # Cargar el clasificador de Haar para la detección de rostros\n",
        "Image_Gris = cv2.cvtColor(Image, cv2.COLOR_BGR2GRAY) # Convertir la imagen a escala de grises\n",
        "rostros = clasificador_rostro.detectMultiScale(Image_Gris, scaleFactor=1.3, minNeighbors=5)# Detectar rostros en la imagen"
      ]
    },
    {
      "cell_type": "code",
      "execution_count": 4,
      "metadata": {
        "id": "Wf5GdVedVbFW"
      },
      "outputs": [],
      "source": [
        "\n",
        "caras = [] # Crear una imagen para almacenar las caras recortadas\n",
        "for (x, y, w, h) in rostros: # Recortar las caras y almacenarlas en la lista \"caras\"\n",
        "    cara_recortada = Image_Gris[y:y+h, x:x+w]\n",
        "    caras.append(cara_recortada)"
      ]
    },
    {
      "cell_type": "code",
      "execution_count": 5,
      "metadata": {
        "id": "xVBHY1CkVbH0"
      },
      "outputs": [],
      "source": [
        "\n",
        "cara_media = np.mean(caras, axis=0) # Calcular la cara media\n",
        "cara_media = cara_media.astype(np.uint8) # Convertir la cara media a un formato de imagen válida (escala de grises)\n",
        "cara_media_redimensionada = cv2.resize(cara_media, (w, h)) # Redimensionar la cara media para que tenga el mismo tamaño que las caras recortadas"
      ]
    },
    {
      "cell_type": "code",
      "execution_count": null,
      "metadata": {
        "id": "UnMZ3KQiVbNE"
      },
      "outputs": [],
      "source": [
        "\n",
        "cv2.imshow(cara_media_redimensionada) # Mostrar la cara media"
      ]
    }
  ],
  "metadata": {
    "colab": {
      "private_outputs": true,
      "provenance": []
    },
    "kernelspec": {
      "display_name": "Python 3",
      "name": "python3"
    },
    "language_info": {
      "codemirror_mode": {
        "name": "ipython",
        "version": 3
      },
      "file_extension": ".py",
      "mimetype": "text/x-python",
      "name": "python",
      "nbconvert_exporter": "python",
      "pygments_lexer": "ipython3",
      "version": "3.11.5"
    }
  },
  "nbformat": 4,
  "nbformat_minor": 0
}
