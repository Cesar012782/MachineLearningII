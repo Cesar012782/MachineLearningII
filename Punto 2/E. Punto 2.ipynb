{
 "cells": [
  {
   "cell_type": "code",
   "execution_count": 1,
   "metadata": {},
   "outputs": [],
   "source": [
    "import cv2\n",
    "import numpy as np\n",
    "from IPython.display import Image as IPImage, display"
   ]
  },
  {
   "cell_type": "code",
   "execution_count": 2,
   "metadata": {},
   "outputs": [],
   "source": [
    "# Cargar la imagen original\n",
    "imagen = cv2.imread('/Users/cesaraugustosaenzjimenez/Desktop/Entrega1/Punto 2/Image/Fotoperfil_b&n.jpg')  # Reemplazar con la ruta correcta"
   ]
  },
  {
   "cell_type": "code",
   "execution_count": 3,
   "metadata": {},
   "outputs": [],
   "source": [
    "# Crear el clasificador de rostros\n",
    "clasificador_rostro = cv2.CascadeClassifier(cv2.data.haarcascades + 'haarcascade_frontalface_default.xml')\n"
   ]
  },
  {
   "cell_type": "code",
   "execution_count": 4,
   "metadata": {},
   "outputs": [],
   "source": [
    "# Convertir la imagen a escala de grises\n",
    "imagen_gris = cv2.cvtColor(imagen, cv2.COLOR_BGR2GRAY)"
   ]
  },
  {
   "cell_type": "code",
   "execution_count": 5,
   "metadata": {},
   "outputs": [],
   "source": [
    "# Detectar rostros en la imagen\n",
    "rostros = clasificador_rostro.detectMultiScale(imagen_gris, scaleFactor=1.3, minNeighbors=5)\n"
   ]
  },
  {
   "cell_type": "code",
   "execution_count": 6,
   "metadata": {},
   "outputs": [],
   "source": [
    "# Crear una lista para almacenar las caras recortadas\n",
    "caras = []"
   ]
  },
  {
   "cell_type": "code",
   "execution_count": 7,
   "metadata": {},
   "outputs": [],
   "source": [
    "# Recortar cada rostro detectado\n",
    "for (x, y, w, h) in rostros:\n",
    "    cara_recortada = imagen_gris[y:y+h, x:x+w]\n",
    "    caras.append(cara_recortada)"
   ]
  },
  {
   "cell_type": "code",
   "execution_count": 8,
   "metadata": {},
   "outputs": [],
   "source": [
    "# Calcular la cara media\n",
    "cara_media = np.mean(caras, axis=0)\n",
    "cara_media = cara_media.astype(np.uint8)"
   ]
  },
  {
   "cell_type": "code",
   "execution_count": 9,
   "metadata": {},
   "outputs": [],
   "source": [
    "# Redimensionar la cara media\n",
    "cara_media_redimensionada = cv2.resize(cara_media, (w, h))"
   ]
  },
  {
   "cell_type": "code",
   "execution_count": 10,
   "metadata": {},
   "outputs": [
    {
     "data": {
      "text/plain": [
       "True"
      ]
     },
     "execution_count": 10,
     "metadata": {},
     "output_type": "execute_result"
    }
   ],
   "source": [
    "# Guardar la imagen redimensionada\n",
    "cv2.imwrite(\"/Users/cesaraugustosaenzjimenez/Desktop/Entrega1/Punto 2/Image/FotoPerfilRecortada.jpg\", cara_media_redimensionada)"
   ]
  },
  {
   "cell_type": "code",
   "execution_count": 11,
   "metadata": {},
   "outputs": [
    {
     "data": {
      "image/jpeg": "[encoded data removed]",
      "text/plain": [
       "<IPython.core.display.Image object>"
      ]
     },
     "metadata": {},
     "output_type": "display_data"
    }
   ],
   "source": [
    "# Muestra la imagen en el Colab\n",
    "display(IPImage(filename=\"/Users/cesaraugustosaenzjimenez/Desktop/Entrega1/Punto 2/Image/FotoPerfilRecortada.jpg\"))"
   ]
  }
 ],
 "metadata": {
  "kernelspec": {
   "display_name": "Laboratorio",
   "language": "python",
   "name": "python3"
  },
  "language_info": {
   "codemirror_mode": {
    "name": "ipython",
    "version": 3
   },
   "file_extension": ".py",
   "mimetype": "text/x-python",
   "name": "python",
   "nbconvert_exporter": "python",
   "pygments_lexer": "ipython3",
   "version": "3.11.5"
  }
 },
 "nbformat": 4,
 "nbformat_minor": 2
}
